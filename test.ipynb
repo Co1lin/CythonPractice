{
 "cells": [
  {
   "cell_type": "code",
   "execution_count": 16,
   "metadata": {},
   "outputs": [],
   "source": [
    "from icecream import ic\n",
    "import prime.primes as primes_pyx\n",
    "import prime.primes_python as primes_pure_python\n",
    "import prime.primes_python_compiled as primes_complied_python"
   ]
  },
  {
   "cell_type": "code",
   "execution_count": 17,
   "metadata": {},
   "outputs": [
    {
     "name": "stderr",
     "output_type": "stream",
     "text": [
      "ic| primes_pyx.primes(1000) == primes_pure_python.primes(1000): True\n",
      "ic| primes_pure_python.primes(1000) == primes_complied_python.primes(1000): True\n"
     ]
    },
    {
     "data": {
      "text/plain": [
       "True"
      ]
     },
     "execution_count": 17,
     "metadata": {},
     "output_type": "execute_result"
    }
   ],
   "source": [
    "ic(primes_pyx.primes(1000) == primes_pure_python.primes(1000))\n",
    "ic(primes_pure_python.primes(1000) == primes_complied_python.primes(1000))"
   ]
  },
  {
   "cell_type": "code",
   "execution_count": 26,
   "metadata": {},
   "outputs": [
    {
     "name": "stdout",
     "output_type": "stream",
     "text": [
      "20.4 ms ± 243 µs per loop (mean ± std. dev. of 7 runs, 10 loops each)\n",
      "10.8 ms ± 576 µs per loop (mean ± std. dev. of 7 runs, 100 loops each)\n",
      "2.29 ms ± 11.6 µs per loop (mean ± std. dev. of 7 runs, 100 loops each)\n"
     ]
    }
   ],
   "source": [
    "%timeit primes_pure_python.primes(1000)\n",
    "%timeit primes_complied_python.primes(1000)\n",
    "%timeit primes_pyx.primes(1000)"
   ]
  }
 ],
 "metadata": {
  "interpreter": {
   "hash": "ea8cba438aad17ad4eefbfe0f5b8122b0ca84bd438f6db5c6fb47e23c0540bb9"
  },
  "kernelspec": {
   "display_name": "Python 3.10.0 64-bit (conda)",
   "language": "python",
   "name": "python3"
  },
  "language_info": {
   "codemirror_mode": {
    "name": "ipython",
    "version": 3
   },
   "file_extension": ".py",
   "mimetype": "text/x-python",
   "name": "python",
   "nbconvert_exporter": "python",
   "pygments_lexer": "ipython3",
   "version": "3.10.0"
  },
  "orig_nbformat": 4
 },
 "nbformat": 4,
 "nbformat_minor": 2
}
